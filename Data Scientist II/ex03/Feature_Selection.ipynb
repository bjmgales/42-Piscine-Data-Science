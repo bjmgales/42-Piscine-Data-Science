{
 "cells": [
  {
   "cell_type": "markdown",
   "metadata": {},
   "source": [
    "<div style=\"border: 2px solid white; padding: 10px;\">\n",
    "    <h2 style='text-align: center; margin-top:5px'><u>Variance Inflation Factor and Tolerance:</u></h2>\n",
    "    <hr></hr>\n",
    "    <ul>\n",
    "        <li>\n",
    "            <h4>Variance Inflation Factor:</h4>\n",
    "            <pre style='line-height: 1.5'>\n",
    "    The Variance Inflation Factor, known as <mark>VIF</mark>, \n",
    "    is the measure of the amount of <mark>multicollinearity</mark> in regression analysis...\n",
    "    That does not help a lot.\n",
    "            </pre>\n",
    "            <pre style='line-height: 1.5'>\n",
    "    <b>In simpler term:</b> \n",
    "        if the data points of a feature, let's say Force, are too <mark>similar</mark> \n",
    "        to the data points of another feature, let's say LightSaber,\n",
    "        then Force and LightSaber are both giving <mark>the same kind</mark>\n",
    "        <mark>of information</mark> to the model. This redundancy can make the model\n",
    "        less reliable.\n",
    "            </pre>\n",
    "            <pre style='line-height: 1.5'>\n",
    "    <b>A VIF of:</b>\n",
    "        • 1: Perfect, no multicollinearity.\n",
    "        • >5: Bad, the feature is highly correlated with others.\n",
    "        • >10: Drop that gun, on the ground, NOW\n",
    "            </pre>\n",
    "        </li>\n",
    "        <li>\n",
    "            <h4>Tolerance:</h4>\n",
    "            <pre style='line-height: 1.5'>\n",
    "    <code>Tolerance = 1 / VIF</code>\n",
    "    Tolerance is like <mark>the opposite</mark> of the VIF.\n",
    "    If VIF measure how much a feature overlaps with others,\n",
    "    tolerance measures how <mark>independent a feature is</mark> from the other.\n",
    "            </pre>\n",
    "            <pre style='line-height: 1.5'>\n",
    "    • If tolerance is <mark>low</mark>, it means the feature is <mark>redundant</mark>.\n",
    "    • If tolerance is <mark>high</mark>, it means the feature is more <mark>independent</mark>.\n",
    "            </pre>\n",
    "        </li>\n",
    "</div>"
   ]
  },
  {
   "cell_type": "code",
   "execution_count": null,
   "metadata": {},
   "outputs": [],
   "source": [
    "import matplotlib.pyplot as plt\n",
    "from statsmodels.stats.outliers_influence import variance_inflation_factor\n",
    "from sklearn.preprocessing import StandardScaler\n",
    "import pandas as pd\n",
    "import numpy as np\n",
    "df = pd.read_csv('../../subject/Knights/Train_Knight.csv')"
   ]
  },
  {
   "cell_type": "code",
   "execution_count": 316,
   "metadata": {},
   "outputs": [
    {
     "name": "stdout",
     "output_type": "stream",
     "text": [
      "                           VIF  Tolerance\n",
      "0     Sensitivity  4405.611729   0.000227\n",
      "1        Hability    11.315560   0.088374\n",
      "2        Strength  4507.502279   0.000222\n",
      "3           Power   415.206742   0.002408\n",
      "4         Agility     7.658262   0.130578\n",
      "5       Dexterity    54.742161   0.018267\n",
      "6       Awareness    70.187104   0.014248\n",
      "7      Prescience    54.807121   0.018246\n",
      "8      Reactivity     4.074263   0.245443\n",
      "9   Midi-chlorien    14.678468   0.068127\n",
      "10          Slash    81.359476   0.012291\n",
      "11           Push     4.076030   0.245337\n",
      "12           Pull    74.078367   0.013499\n",
      "13     Lightsaber    47.718093   0.020956\n",
      "14       Survival     3.663389   0.272971\n",
      "15        Repulse    15.265039   0.065509\n",
      "16     Friendship    19.172066   0.052159\n",
      "17       Blocking    14.670653   0.068163\n",
      "18     Deflection     4.550875   0.219738\n",
      "19           Mass    10.506650   0.095178\n",
      "20       Recovery   799.098802   0.001251\n",
      "21          Evade    17.664258   0.056611\n",
      "22          Stims   346.143357   0.002889\n",
      "23         Sprint   368.712430   0.002712\n",
      "24          Combo     9.924896   0.100757\n",
      "25          Delay    35.992007   0.027784\n",
      "26     Attunement    33.907250   0.029492\n",
      "27      Empowered    36.226625   0.027604\n",
      "28          Burst     8.719816   0.114681\n",
      "29       Grasping    20.086807   0.049784\n",
      "30         knight     4.638075   0.215607\n"
     ]
    }
   ],
   "source": [
    "if 'knight' in df.columns:\n",
    "    df['knight'] = df['knight'].map({'Jedi' : 0, 'Sith': 1})\n",
    "df_scaled = pd.DataFrame(StandardScaler().fit_transform(df))\n",
    "df_scaled.columns = df.columns\n",
    "full_VIF_display = pd.DataFrame()\n",
    "full_VIF_display[''] = df_scaled.columns\n",
    "full_VIF_display['VIF'] = [variance_inflation_factor(df_scaled.values, i)\n",
    "                           for i in range(len(df_scaled.columns))]\n",
    "full_VIF_display['Tolerance'] = 1 / full_VIF_display['VIF']\n",
    "print(full_VIF_display)\n"
   ]
  },
  {
   "cell_type": "code",
   "execution_count": 317,
   "metadata": {},
   "outputs": [
    {
     "name": "stdout",
     "output_type": "stream",
     "text": [
      "                        VIF  Tolerance\n",
      "0        Hability  1.707505   0.585650\n",
      "1         Agility  2.698801   0.370535\n",
      "2      Reactivity  2.911166   0.343505\n",
      "3   Midi-chlorien  3.655478   0.273562\n",
      "4            Push  1.849124   0.540797\n",
      "5            Pull  2.203770   0.453768\n",
      "6        Survival  1.684175   0.593763\n",
      "7      Friendship  3.762652   0.265770\n",
      "8        Blocking  4.141421   0.241463\n",
      "9      Deflection  2.180713   0.458566\n",
      "10           Mass  4.102290   0.243766\n",
      "11          Burst  3.770857   0.265192\n",
      "12         knight  2.897881   0.345080\n"
     ]
    }
   ],
   "source": [
    "while True:\n",
    "    vif_data = pd.DataFrame()\n",
    "    vif_data[\"\"] = df_scaled.columns\n",
    "    vif_data['VIF'] = [variance_inflation_factor(df_scaled.values, i)\n",
    "                       for i in range(len(df_scaled.columns))]\n",
    "    if max(vif_data['VIF']) < 5:\n",
    "        break\n",
    "    df_scaled = df_scaled.drop(df_scaled.columns[vif_data['VIF'].idxmax()], axis=1)\n",
    "vif_data['Tolerance'] = 1 / vif_data['VIF']\n",
    "print(vif_data)"
   ]
  },
  {
   "cell_type": "markdown",
   "metadata": {},
   "source": [
    "<div style=\"border: 2px solid white; padding: 10px;\">\n",
    "            <h3 style='text-align:center'><u>A look to the results:</u></h3>\n",
    "            <pre style='line-height: 1.5'>\n",
    "    As you can see, at first we got a pretty terrible VIF score for every\n",
    "    features. The thing is, we cannot just select the ones with the best\n",
    "    VIF score and stop there. That would be an error and we'd be missing\n",
    "    some precious information.\n",
    "            </pre>\n",
    "            <pre style='line-height: 1.5'>\n",
    "    Now that we know that VIF is the measure of the \"singularity\" of a feature,\n",
    "    we can guess that <mark>if a feature is multicollinear</mark> with another, \n",
    "    then <mark>we shouldnt drop both</mark>!\n",
    "    Therefore, the best method is to <mark>remove the feature</mark> with the highest score, \n",
    "    and <mark>recalculate</mark> the VIF score of <mark>all</mark> the feature.\n",
    "    Every time a feature is removed, or added, all the other \n",
    "    features have their VIF score changed.\n",
    "    As shown below, we went on a loop, removing the highests VIF score features,\n",
    "    one by one, recalculating the whole VIF every time, \n",
    "    until we reached a decent VIF score for every feature.\n",
    "            </pre>\n",
    "</div>"
   ]
  }
 ],
 "metadata": {
  "kernelspec": {
   "display_name": "venv",
   "language": "python",
   "name": "python3"
  },
  "language_info": {
   "codemirror_mode": {
    "name": "ipython",
    "version": 3
   },
   "file_extension": ".py",
   "mimetype": "text/x-python",
   "name": "python",
   "nbconvert_exporter": "python",
   "pygments_lexer": "ipython3",
   "version": "3.13.0"
  }
 },
 "nbformat": 4,
 "nbformat_minor": 2
}
