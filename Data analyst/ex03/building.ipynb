{
 "cells": [
  {
   "cell_type": "code",
   "execution_count": 1,
   "metadata": {},
   "outputs": [
    {
     "name": "stdout",
     "output_type": "stream",
     "text": [
      "\u001b[95mconnection to database...\n",
      "\u001b[92mconnection with database OK\n"
     ]
    }
   ],
   "source": [
    "import psycopg2\n",
    "from psycopg2.extras import DictCursor\n",
    "import numpy as np\n",
    "import matplotlib.pyplot as plt\n",
    "\n",
    "try:\n",
    "        print(\"\\033[95mconnection to database...\")\n",
    "        conn = psycopg2.connect(\n",
    "            database='piscineds',\n",
    "            user='bgales',\n",
    "            password='mysecretpassword',\n",
    "            host='localhost'\n",
    "        )\n",
    "        cursor = conn.cursor(cursor_factory=DictCursor)\n",
    "        print('\\033[92mconnection with database OK')\n",
    "        cursor.execute('BEGIN;')\n",
    "except Exception as e:\n",
    "    print(\"\\033[91mError: \", e)\n",
    "    print('\\033[93mrollback in progress...\\033[0m')\n",
    "    conn.rollback()"
   ]
  },
  {
   "cell_type": "code",
   "execution_count": 2,
   "metadata": {},
   "outputs": [],
   "source": [
    "def hide_ticks_frame():\n",
    "    plt.tick_params(axis='both', which='both', length=0)\n",
    "    plt.gca().spines['top'].set_visible(False)\n",
    "    plt.gca().spines['right'].set_visible(False)\n",
    "    plt.gca().spines['left'].set_visible(False)\n",
    "    plt.gca().spines['bottom'].set_visible(False)\n",
    "    plt.gca().set_facecolor('#EAEAF2')"
   ]
  },
  {
   "cell_type": "code",
   "execution_count": 3,
   "metadata": {},
   "outputs": [
    {
     "name": "stdout",
     "output_type": "stream",
     "text": [
      "\u001b[93mfetching data from database for the first graph...\u001b[0m\n",
      "\u001b[92mdata fetched with success!\u001b[0m\n"
     ]
    }
   ],
   "source": [
    "try:\n",
    "    print('\\033[93mfetching data from database for the first graph...\\033[0m')\n",
    "    cursor.execute(\n",
    "        '''\n",
    "            SELECT\n",
    "            COUNT(user_id) AS sum_counts\n",
    "            FROM (\n",
    "                SELECT\n",
    "                    user_id, COUNT(user_id) as counts\n",
    "                FROM customers\n",
    "                WHERE event_type = 'purchase'\n",
    "                GROUP BY user_id\n",
    "                HAVING COUNT(user_id) > 0\n",
    "            ) as counted_users\n",
    "            GROUP BY FLOOR(counts / 10)\n",
    "            ORDER BY FLOOR(counts / 10)\n",
    "        '''\n",
    "    )\n",
    "    order_frequency = [int(row[0]) for row in cursor.fetchall()]\n",
    "    order_frequency = np.array(order_frequency)\n",
    "    cursor.execute(\n",
    "        '''\n",
    "            SELECT COUNT(user_id) FROM customers\n",
    "            WHERE event_type = 'purchase'\n",
    "        '''\n",
    "    )\n",
    "    customers_nb = cursor.fetchone()[0]\n",
    "    print('\\033[92mdata fetched with success!\\033[0m')\n",
    "except Exception as e:\n",
    "        print(\"\\033[91mError: \", e)\n",
    "        print('\\033[93mrollback in progress...\\033[0m')\n",
    "        conn.rollback()"
   ]
  },
  {
   "cell_type": "code",
   "execution_count": 4,
   "metadata": {},
   "outputs": [
    {
     "name": "stdout",
     "output_type": "stream",
     "text": [
      "\u001b[2mdisplaying graph one...\u001b[0m\n"
     ]
    },
    {
     "data": {
      "image/png": "[encoded data removed]",
      "text/plain": [
       "<Figure size 640x480 with 1 Axes>"
      ]
     },
     "metadata": {},
     "output_type": "display_data"
    }
   ],
   "source": [
    "fig, ax = plt.subplots()\n",
    "x_ticks = np.array(range(len(order_frequency)))\n",
    "frequency = [0, 10, 20, 30]\n",
    "plt.bar(x_ticks, order_frequency,\n",
    "        color='#B6C5D8', alpha=1, width=0.97, zorder=2)\n",
    "hide_ticks_frame()\n",
    "plt.ylabel('customers')\n",
    "plt.xlabel('frequency')\n",
    "ax.set_xticks((np.array([-0.60, 0.7, 2.05, 3.4])))\n",
    "ax.set_xticklabels(frequency)\n",
    "plt.xlim(-0.75, 4.5)\n",
    "print('\\033[2mdisplaying graph one...\\033[0m')\n",
    "plt.grid(color='white', linestyle='-', zorder=0)\n",
    "plt.show()"
   ]
  },
  {
   "cell_type": "code",
   "execution_count": 5,
   "metadata": {},
   "outputs": [
    {
     "name": "stdout",
     "output_type": "stream",
     "text": [
      "\u001b[93mfetching data from database for the second graph...\u001b[0m\n",
      "\u001b[92mdata fetched with success!\u001b[0m\n"
     ]
    }
   ],
   "source": [
    "try:\n",
    "    print('\\033[93mfetching data from database for the second graph...\\033[0m')\n",
    "    cursor.execute(\n",
    "        '''\n",
    "            SELECT\n",
    "            COUNT(user_id) AS sum_counts\n",
    "            FROM (\n",
    "                SELECT\n",
    "                    user_id, SUM(price) as counts\n",
    "                FROM customers\n",
    "                WHERE event_type = 'purchase'\n",
    "                GROUP BY user_id\n",
    "                HAVING SUM(price) BETWEEN 0 AND 225\n",
    "            ) as counted_users\n",
    "            GROUP BY FLOOR((counts + 25) / 50)\n",
    "            ORDER BY FLOOR((counts + 25) / 50)\n",
    "        '''\n",
    "    )\n",
    "    totalspent_per_user = [int(row[0]) for row in cursor.fetchall()]\n",
    "    totalspent_per_user = np.array(totalspent_per_user)\n",
    "    cursor.execute(\n",
    "        '''\n",
    "            SELECT COUNT(user_id) FROM customers\n",
    "            WHERE event_type = 'purchase'\n",
    "        '''\n",
    "    )\n",
    "    customers_nb = cursor.fetchone()[0]\n",
    "    print('\\033[92mdata fetched with success!\\033[0m')\n",
    "except Exception as e:\n",
    "    print(\"\\033[91mError: \", e)\n",
    "    print('\\033[93mrollback in progress...\\033[0m')\n",
    "    conn.rollback()"
   ]
  },
  {
   "cell_type": "code",
   "execution_count": 7,
   "metadata": {},
   "outputs": [
    {
     "name": "stdout",
     "output_type": "stream",
     "text": [
      "\u001b[2mdisplaying graph two...\u001b[0m\n"
     ]
    },
    {
     "data": {
      "image/png": "[encoded data removed]",
      "text/plain": [
       "<Figure size 640x480 with 1 Axes>"
      ]
     },
     "metadata": {},
     "output_type": "display_data"
    },
    {
     "name": "stdout",
     "output_type": "stream",
     "text": [
      "\u001b[95mclosing connection with database...\n"
     ]
    }
   ],
   "source": [
    "fig, ax = plt.subplots()\n",
    "x_ticks = np.array(range(len(totalspent_per_user)))\n",
    "plt.bar(x_ticks, totalspent_per_user,\n",
    "        color='#B6C5D8', alpha=1, width=0.97, zorder=2)\n",
    "hide_ticks_frame()\n",
    "plt.ylabel('customers')\n",
    "plt.xlabel('monetary value in ₳')\n",
    "plt.xlim(-0.75, 4.75)\n",
    "ax.set_xticks((np.array([0, 1, 2, 3, 4])))\n",
    "ax.set_xticklabels([0, 50, 100, 150, 200])\n",
    "ax.set_yticks(range(0, 50000, 5000))\n",
    "ax.set_yticklabels(range(0, 50000, 5000))\n",
    "print('\\033[2mdisplaying graph two...\\033[0m')\n",
    "plt.grid(color='white', linestyle='-', zorder=0)\n",
    "plt.show()\n",
    "\n",
    "if conn:\n",
    "    print(\"\\033[95mclosing connection with database...\")\n",
    "    cursor.close()\n",
    "    conn.close()"
   ]
  }
 ],
 "metadata": {
  "kernelspec": {
   "display_name": "venv",
   "language": "python",
   "name": "python3"
  },
  "language_info": {
   "codemirror_mode": {
    "name": "ipython",
    "version": 3
   },
   "file_extension": ".py",
   "mimetype": "text/x-python",
   "name": "python",
   "nbconvert_exporter": "python",
   "pygments_lexer": "ipython3",
   "version": "3.13.0"
  }
 },
 "nbformat": 4,
 "nbformat_minor": 2
}
