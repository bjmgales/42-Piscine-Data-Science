{
 "cells": [
  {
   "cell_type": "markdown",
   "metadata": {},
   "source": [
    "<div style=\"border: 2px solid white; padding: 10px;\">\n",
    "    <h2 style='text-align: center; margin-top:5px'><u>Train, Validation, Test - The Split.</u></h2>\n",
    "    <h4 style='text-align: center;'> The train/validation/test split is a common technique in machine learning.</h4>\n",
    "    <pre style='line-height: 2'>\n",
    "        The process is simple. You cut a dataset in <b>three part</b>:\n",
    "            • The first part, train, will feed the model.\n",
    "            • The second part, validation, will be used multiple times <i>during</i> training.\n",
    "            • The third part, test, will be used once, <i>after</i> the training is done.\n",
    "    </pre>\n",
    "    <hr></hr>\n",
    "    <ul>\n",
    "        <li>\n",
    "            <h4> Train :</h4>\n",
    "            <pre>\n",
    "    This part usually represents 60-80% of the dataset.\n",
    "    The model will use the data in order to learn from it and adjust it's parameters.\n",
    "    Usually, you'll give the model a target. The target will try to learn the relationship between the data and the target.\n",
    "            </pre>\n",
    "        </li>\n",
    "        <li>\n",
    "            <h4> Validation: </h4>\n",
    "            <pre>\n",
    "    This part usually represent 10-20% of the dataset.\n",
    "    The validation set will be used to evaluate the model during it's training. \n",
    "    On every loop, we will tweak the model and re-evaluate it with the validation test.\n",
    "    In the end, we will pick the model that has the best result on the validation set.\n",
    "            </pre>\n",
    "        </li>\n",
    "        <li>\n",
    "            <h4> Test: </h4>\n",
    "            <pre>\n",
    "    This part usually represent 10-20% of the dataset.\n",
    "    The test set will be used to evaluate the model after it's training. \n",
    "    Now that we picked the presumably best model, we will confirm it's results on the test set.\n",
    "            </pre>\n",
    "        </li>\n",
    "    </ul>\n",
    "</div>"
   ]
  },
  {
   "cell_type": "markdown",
   "metadata": {},
   "source": []
  }
 ],
 "metadata": {
  "kernelspec": {
   "display_name": "venv",
   "language": "python",
   "name": "python3"
  },
  "language_info": {
   "name": "python",
   "version": "3.13.0"
  }
 },
 "nbformat": 4,
 "nbformat_minor": 2
}
